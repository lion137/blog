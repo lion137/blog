{
 "cells": [
  {
   "cell_type": "markdown",
   "metadata": {},
   "source": [
    "Fast Fibonacci Algorithm, based on Matrix Exponentiation Identity."
   ]
  },
  {
   "cell_type": "code",
   "execution_count": 1,
   "metadata": {
    "collapsed": true
   },
   "outputs": [],
   "source": [
    "# Naive Algorithm, tests purposes:\n",
    "def naive_fibo(n):\n",
    "    if n == 1:\n",
    "        return 1\n",
    "    if n == 2:\n",
    "        return 1\n",
    "    else:\n",
    "        return naive_fibo(n - 1) + naive_fibo(n - 2)"
   ]
  },
  {
   "cell_type": "code",
   "execution_count": 5,
   "metadata": {
    "collapsed": true
   },
   "outputs": [],
   "source": [
    "# Matrix Exponentiation Algorithm:\n",
    "# Helping function matr_power, raise  2 x 2 matrix to power n, by exponentiation by squaring: lines 12 - 17\n",
    "# In line 19, there is defined a matrix from Fibonacci Identity, and to compute n-th Fibonacci number, is \n",
    "# Enough to return m(1,0) or m(0, 1) element\n",
    "def fibo(n):\n",
    "    def matr_power(a, n):\n",
    "        def matr_mul(M1, M2):\n",
    "            a11 = M1[0][0]*M2[0][0] + M1[0][1]*M2[1][0]\n",
    "            a12 = M1[0][0]*M2[0][1] + M1[0][1]*M2[1][1]\n",
    "            a21 = M1[1][0]*M2[0][0] + M1[1][1]*M2[1][0]\n",
    "            a22 = M1[1][0]*M2[0][1] + M1[1][1]*M2[1][1]\n",
    "            r = [[a11, a12], [a21, a22]]\n",
    "            return r\n",
    "        if n == 1:\n",
    "            return a\n",
    "        elif not n % 2 == 0:\n",
    "            return matr_mul(a, matr_power(matr_mul(a, a), (n - 1) // 2))\n",
    "        else:\n",
    "            return matr_power(matr_mul(a, a), n // 2)\n",
    "    m = [[1, 1], [1, 0]]\n",
    "    return matr_power(m, n)[1][0]"
   ]
  },
  {
   "cell_type": "code",
   "execution_count": 3,
   "metadata": {
    "collapsed": true
   },
   "outputs": [],
   "source": [
    "# Test:\n",
    "def tests(k):\n",
    "    for n in range(1, k):\n",
    "        if naive_fibo(n) != fibo(n):\n",
    "            return(\"Error for n= \", n)\n",
    "    print(\"Test didn't detect errors!\")"
   ]
  },
  {
   "cell_type": "code",
   "execution_count": 4,
   "metadata": {},
   "outputs": [
    {
     "name": "stdout",
     "output_type": "stream",
     "text": [
      "Test didn't detect errors!\n"
     ]
    }
   ],
   "source": [
    "tests(25)"
   ]
  }
 ],
 "metadata": {
  "kernelspec": {
   "display_name": "Python 3",
   "language": "python",
   "name": "python3"
  },
  "language_info": {
   "codemirror_mode": {
    "name": "ipython",
    "version": 3
   },
   "file_extension": ".py",
   "mimetype": "text/x-python",
   "name": "python",
   "nbconvert_exporter": "python",
   "pygments_lexer": "ipython3",
   "version": "3.6.1"
  }
 },
 "nbformat": 4,
 "nbformat_minor": 2
}
