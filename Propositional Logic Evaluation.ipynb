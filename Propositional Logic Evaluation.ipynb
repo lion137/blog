{
 "cells": [
  {
   "cell_type": "markdown",
   "metadata": {},
   "source": [
    "I've written a simple sentential logic evaluator using a binary tree implementation. \n",
    "Here is the Binary Tree class:"
   ]
  },
  {
   "cell_type": "code",
   "execution_count": 1,
   "metadata": {
    "collapsed": true
   },
   "outputs": [],
   "source": [
    "import operator as op\n",
    "import pdb\n",
    "\n",
    "class BinaryTree:\n",
    "\n",
    "    def __init__(self, rootObj):\n",
    "        self.key = rootObj\n",
    "        self.parent = None\n",
    "        self.leftChild = None\n",
    "        self.rightChild = None\n",
    "\n",
    "    def insertLeft(self, newNode):\n",
    "        if self.leftChild == None:\n",
    "            t = BinaryTree(newNode)\n",
    "            self.leftChild = t\n",
    "            t.parent = self\n",
    "        else:\n",
    "            t = BinaryTree(newNode)\n",
    "            t.parent = self\n",
    "            t.leftChild = self.leftChild\n",
    "            self.leftChild.parent = t\n",
    "            self.leftChild = t\n",
    "\n",
    "    def insertRight(self, newNode):\n",
    "        if self.rightChild == None:\n",
    "            t = BinaryTree(newNode)\n",
    "            self.rightChild = t\n",
    "            t.parent = self\n",
    "        else:\n",
    "            t = BinaryTree(newNode)\n",
    "            t.parent = self\n",
    "            t.rightChild = self.rightChild\n",
    "            self.rightChild.parent = t\n",
    "            self.rightChild = t\n",
    "\n",
    "    def getRightChild(self):\n",
    "        return self.rightChild\n",
    "\n",
    "    def getLeftChild(self):\n",
    "        return self.leftChild\n",
    "\n",
    "    def getParent(self):\n",
    "        return self.parent\n",
    "\n",
    "    def getRootVal(self):\n",
    "        return self.key\n",
    "\n",
    "    def setRootVal(self, obj):\n",
    "        self.key = obj\n",
    "\n",
    "    def setLeftChild(self, nodeObj):\n",
    "        self.leftChild = nodeObj\n",
    "\n",
    "    def setRightChild(self, nodeObj):\n",
    "        self.rightChild = nodeObj\n",
    "\n",
    "    def setParent(self, nodeObj):\n",
    "        self.parent = nodeObj\n",
    "        \n",
    "    def isRightChild(self):\n",
    "        return self.parent and self.parent.rightChild == self\n",
    "    \n",
    "    def isLeftChild(self):\n",
    "        return self.parent and self.parent.leftChild == self\n",
    "    def isRoot(self):\n",
    "        return"
   ]
  },
  {
   "cell_type": "markdown",
   "metadata": {},
   "source": [
    "Simple inorder traversal:"
   ]
  },
  {
   "cell_type": "code",
   "execution_count": 2,
   "metadata": {
    "collapsed": true
   },
   "outputs": [],
   "source": [
    "def inorder_traversal(tree):\n",
    "    if tree:\n",
    "        inorder_traversal(tree.getLeftChild())\n",
    "        print(tree.getRootVal())\n",
    "        inorder_traversal(tree.getRightChild())"
   ]
  },
  {
   "cell_type": "markdown",
   "metadata": {},
   "source": [
    "Now I had to built a syntax tree, it builds a tree similar to one uses in evaluation of arithmetic expressions; the difference is in negation operator (it's unary) - creates only one new node:"
   ]
  },
  {
   "cell_type": "code",
   "execution_count": 3,
   "metadata": {
    "collapsed": true
   },
   "outputs": [],
   "source": [
    "implication = lambda x, y: op.or_(op.not_(x), y)\n",
    "\n",
    "def build_parse_tree(exp):\n",
    "    exp_list = exp.replace('(', ' ( ').replace(')', ' ) ').replace('~', ' ~ ').split()\n",
    "    e_tree = BinaryTree('')\n",
    "    current_tree = e_tree\n",
    "    cnt = 0\n",
    "    for token in exp_list:\n",
    "        if token == '(':\n",
    "                current_tree.insertLeft('')\n",
    "                current_tree = current_tree.getLeftChild()\n",
    "        elif token in ['||','&&', '->']:\n",
    "            if current_tree.getRootVal() == '~':\n",
    "                current_tree.getParent().setRootVal(token)\n",
    "                current_tree.insertRight('')\n",
    "                current_tree = current_tree.getRightChild()\n",
    "            else:\n",
    "                current_tree.setRootVal(token)\n",
    "                current_tree.insertRight('')\n",
    "                current_tree = current_tree.getRightChild()\n",
    "        elif token in ['1', '0']:\n",
    "            current_tree.setRootVal(bool(int(token)))\n",
    "            current_tree = current_tree.getParent()\n",
    "            if current_tree.getRootVal() == '~':\n",
    "                current_tree = current_tree.getParent()\n",
    "        elif token == '~':\n",
    "            current_tree.setRootVal('~')\n",
    "            current_tree.insertLeft('')\n",
    "            current_tree = current_tree.getLeftChild()\n",
    "        elif token == ')':\n",
    "            current_tree = current_tree.getParent()\n",
    "        else:\n",
    "            raise ValueError\n",
    "        cnt += 1\n",
    "    return e_tree"
   ]
  },
  {
   "cell_type": "markdown",
   "metadata": {},
   "source": [
    "Time to eval function:"
   ]
  },
  {
   "cell_type": "code",
   "execution_count": 4,
   "metadata": {
    "collapsed": false
   },
   "outputs": [],
   "source": [
    "def evaluate_parse_tree(tree):\n",
    "    opers = {'||': op.or_, '&&': op.and_, '~': op.not_, '->': implication} \n",
    "    leftT = tree.getLeftChild()\n",
    "    rightT = tree.getRightChild()\n",
    "    if leftT and not rightT:\n",
    "        fn = opers[tree.getRootVal()]\n",
    "        return fn(evaluate_parse_tree(leftT))\n",
    "    elif leftT and rightT:\n",
    "        fn = opers[tree.getRootVal()]\n",
    "        return fn(evaluate_parse_tree(leftT), evaluate_parse_tree(rightT))\n",
    "    else:\n",
    "        #pdb.set_trace()\n",
    "        return tree.getRootVal()"
   ]
  },
  {
   "cell_type": "markdown",
   "metadata": {},
   "source": [
    "Eval picks an operator from a dict and recursively call itself (from both branches - binary operand, from left only - unary negation)   \n",
    "Examples:"
   ]
  },
  {
   "cell_type": "code",
   "execution_count": 5,
   "metadata": {
    "collapsed": true
   },
   "outputs": [],
   "source": [
    "tree1 = build_parse_tree('(1 ->(0 -> 1))')"
   ]
  },
  {
   "cell_type": "markdown",
   "metadata": {},
   "source": [
    "This is a tree:"
   ]
  },
  {
   "cell_type": "code",
   "execution_count": 6,
   "metadata": {
    "collapsed": false
   },
   "outputs": [
    {
     "name": "stdout",
     "output_type": "stream",
     "text": [
      "True\n",
      "->\n",
      "False\n",
      "->\n",
      "True\n"
     ]
    }
   ],
   "source": [
    "inorder_traversal(tree1)"
   ]
  },
  {
   "cell_type": "markdown",
   "metadata": {},
   "source": [
    "And finally evaluation gives true:"
   ]
  },
  {
   "cell_type": "code",
   "execution_count": 7,
   "metadata": {
    "collapsed": false
   },
   "outputs": [
    {
     "data": {
      "text/plain": [
       "True"
      ]
     },
     "execution_count": 7,
     "metadata": {},
     "output_type": "execute_result"
    }
   ],
   "source": [
    "evaluate_parse_tree(tree1)"
   ]
  },
  {
   "cell_type": "markdown",
   "metadata": {},
   "source": [
    "Another one: "
   ]
  },
  {
   "cell_type": "code",
   "execution_count": 8,
   "metadata": {
    "collapsed": true
   },
   "outputs": [],
   "source": [
    "tree2 = build_parse_tree('~((1 -> (0 -> 0)) -> ((1 -> 0) -> (1 -> 0)))')"
   ]
  },
  {
   "cell_type": "code",
   "execution_count": 9,
   "metadata": {
    "collapsed": false
   },
   "outputs": [
    {
     "name": "stdout",
     "output_type": "stream",
     "text": [
      "True\n",
      "->\n",
      "False\n",
      "->\n",
      "False\n",
      "->\n",
      "True\n",
      "->\n",
      "False\n",
      "->\n",
      "True\n",
      "->\n",
      "False\n",
      "~\n"
     ]
    }
   ],
   "source": [
    "inorder_traversal(tree2)"
   ]
  },
  {
   "cell_type": "code",
   "execution_count": 10,
   "metadata": {
    "collapsed": false
   },
   "outputs": [
    {
     "data": {
      "text/plain": [
       "False"
      ]
     },
     "execution_count": 10,
     "metadata": {},
     "output_type": "execute_result"
    }
   ],
   "source": [
    "evaluate_parse_tree(tree2)"
   ]
  },
  {
   "cell_type": "markdown",
   "metadata": {},
   "source": [
    "One more tree:"
   ]
  },
  {
   "cell_type": "code",
   "execution_count": 11,
   "metadata": {
    "collapsed": true
   },
   "outputs": [],
   "source": [
    "tree3 = build_parse_tree('((~1 -> ~0) -> (0 -> 1))')"
   ]
  },
  {
   "cell_type": "code",
   "execution_count": 12,
   "metadata": {
    "collapsed": false
   },
   "outputs": [
    {
     "name": "stdout",
     "output_type": "stream",
     "text": [
      "True\n",
      "~\n",
      "->\n",
      "False\n",
      "~\n",
      "->\n",
      "False\n",
      "->\n",
      "True\n"
     ]
    }
   ],
   "source": [
    "inorder_traversal(tree3)"
   ]
  },
  {
   "cell_type": "code",
   "execution_count": 13,
   "metadata": {
    "collapsed": false
   },
   "outputs": [
    {
     "data": {
      "text/plain": [
       "True"
      ]
     },
     "execution_count": 13,
     "metadata": {},
     "output_type": "execute_result"
    }
   ],
   "source": [
    "evaluate_parse_tree(tree3)"
   ]
  },
  {
   "cell_type": "markdown",
   "metadata": {},
   "source": [
    "Finall remarks:    \n",
    "Because of negation building parse tree is bit messy.    \n",
    "I don't see any other way to implement logical variables into this - because of parsing process; whole expression is a string and only bool(int('1')) or zero makes sense; bool('string') gives true always except empty string.    \n",
    "Usability of this; obviously one may check if a formula is a thesis of calculus, with some effort it can be used to check if a given formula is a tautology (I'm thinking about this in some future posts)."
   ]
  }
 ],
 "metadata": {
  "anaconda-cloud": {},
  "kernelspec": {
   "display_name": "Python [default]",
   "language": "python",
   "name": "python3"
  },
  "language_info": {
   "codemirror_mode": {
    "name": "ipython",
    "version": 3
   },
   "file_extension": ".py",
   "mimetype": "text/x-python",
   "name": "python",
   "nbconvert_exporter": "python",
   "pygments_lexer": "ipython3",
   "version": "3.5.2"
  }
 },
 "nbformat": 4,
 "nbformat_minor": 1
}
