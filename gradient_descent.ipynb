{
 "cells": [
  {
   "cell_type": "raw",
   "metadata": {},
   "source": [
    "As simple as it is, I started machine learning course (Ng's Coursera), and here is my implenetation of multivariable gradient descent algorithm in numpy. "
   ]
  },
  {
   "cell_type": "code",
   "execution_count": 3,
   "metadata": {
    "collapsed": true
   },
   "outputs": [],
   "source": [
    "import numpy as np\n",
    "import matplotlib.pyplot as plt\n",
    "\n",
    "def scaling(X):\n",
    "    \"\"\"mean normalzation\"\"\"\n",
    "    l = []\n",
    "    for k in range(X.shape[1]):\n",
    "        x = X[:,k]\n",
    "        def f(e):\n",
    "            tmp0 = sum(x) / len(x)\n",
    "            tmp1 = max(x) - min(x)\n",
    "            return (e - tmp0) / tmp1\n",
    "        m =  list(map(float, (list(map(f, x[:, 0])))))\n",
    "        l.append(m)\n",
    "    return np.matrix(l).transpose()\n",
    "\n",
    "\n",
    "l_cost_function = [] # lists to record data for debugging\n",
    "l_iterations = [] \n",
    "\n",
    "def m_g_d(A, y, alfa):\n",
    "    \"\"\"computes gradient descent\"\"\"\n",
    "    l = len(A)\n",
    "    X = np.c_[np.ones(l), A]\n",
    "    tmp = np.matrix([0,0,0], dtype=np.float64)\n",
    "    theta = np.matrix([0,0,0], dtype=np.float64)\n",
    "    cnt = 0\n",
    "    m = len(X)\n",
    "    ma = alfa * (1 / m)\n",
    "    delta = J_m(X, y, theta)\n",
    "    while delta > 0.00001:\n",
    "        beg = J_m(X, y, theta)\n",
    "        for j in range(X.shape[1]):\n",
    "            tmp[:,j] = theta[:,j] - ma * float((((X * theta.transpose()) - y.transpose()).transpose()) * X[:,j])\n",
    "        theta = tmp\n",
    "        end = J_m(X, y, theta)\n",
    "        l_cost_function.append(end)\n",
    "        l_iterations.append(cnt)\n",
    "        delta = abs(end - beg)\n",
    "        cnt += 1\n",
    "    return (theta, cnt)\n",
    "\n",
    "def J_m(A, y, theta):\n",
    "    \"\"\"computes cost function \"\"\"\n",
    "    n = len(A)\n",
    "    return (1 / (2 * n)) * float(sum([x * x for x in A * theta.transpose() - y.transpose()]))"
   ]
  },
  {
   "cell_type": "raw",
   "metadata": {},
   "source": [
    "That's it , I used numpy matrixes not arrays, to avoid loops and indexing if possible, convergence is tested in the way that two consecutive values of cost function must differ less than 0.00001 - than main loop stops - in this example. This code is not nice, but I really don't see what to remove from it.I, also, don't like this conversion to float in gradient descent loop, but that's how numpy matrixes worked for me. I didn't test it on bigger dataset yet, but for very small input, looks fine:"
   ]
  },
  {
   "cell_type": "code",
   "execution_count": 4,
   "metadata": {
    "collapsed": false
   },
   "outputs": [
    {
     "name": "stdout",
     "output_type": "stream",
     "text": [
      "CPU times: user 4.65 s, sys: 0 ns, total: 4.65 s\n",
      "Wall time: 4.67 s\n",
      "(matrix([[ 1.16126227,  0.58057308,  0.58055857]]), 13648)\n"
     ]
    },
    {
     "data": {
      "image/png": "[encoded data removed]",
      "text/plain": [
       "<matplotlib.figure.Figure at 0x7f51d8a1efd0>"
      ]
     },
     "metadata": {},
     "output_type": "display_data"
    }
   ],
   "source": [
    "y = np.matrix([2, 2], dtype=np.float64)\n",
    "T1 = np.matrix([[0.5, 0.5], [0.5, 0.5]], dtype=np.float64)\n",
    "%time out = m_g_d(T1, y, 0.0001)\n",
    "print(out)\n",
    "plt.plot(l_iterations, l_cost_function, color=\"blue\", linewidth=1, label=\"alfa=0.0001\")\n",
    "plt.legend(loc=\"upper right\")\n",
    "plt.show()"
   ]
  },
  {
   "cell_type": "raw",
   "metadata": {},
   "source": [
    "If cost function is computed correctly (I believe yes), than that algorithm works fine, it's a bit slow for me, but I'm going to go deep into it and will let you know about it for sure! Thanks. Bye!"
   ]
  }
 ],
 "metadata": {
  "anaconda-cloud": {},
  "kernelspec": {
   "display_name": "Python [default]",
   "language": "python",
   "name": "python3"
  },
  "language_info": {
   "codemirror_mode": {
    "name": "ipython",
    "version": 3
   },
   "file_extension": ".py",
   "mimetype": "text/x-python",
   "name": "python",
   "nbconvert_exporter": "python",
   "pygments_lexer": "ipython3",
   "version": "3.5.2"
  }
 },
 "nbformat": 4,
 "nbformat_minor": 1
}
