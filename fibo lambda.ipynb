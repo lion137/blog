{
 "cells": [
  {
   "cell_type": "markdown",
   "metadata": {},
   "source": [
    "#### Elementy Rachunku Lambda w Pythonie"
   ]
  },
  {
   "cell_type": "markdown",
   "metadata": {},
   "source": [
    "Fixed Point Combinator, czyli Y Combinator. Co to jest? To jest po prostu punkt stały funkcji rekurencyjnej, zapisanej przy pomocy lambd; jak to lambd skoro funkcja rekurencyjna? Przeciez funkcja nie mająca nazwy nie może się wołać w kodzie. Otóż może dzięki Y Combinatorowi, tworzymy częściową funkcję rekurencyjną, i funkcja Y znajduje jej punkt stały czyli docelową funkcję, dla silni silnię, i tak dalej. Kod w Pythonie:"
   ]
  },
  {
   "cell_type": "code",
   "execution_count": 3,
   "metadata": {},
   "outputs": [],
   "source": [
    "y = lambda f: (lambda x: f(lambda v: x(x)(v)))(lambda x: f(lambda v: x(x)(v)))"
   ]
  },
  {
   "cell_type": "markdown",
   "metadata": {},
   "source": [
    "Pełne wyprowadzenie (w Scheme) tutaj: http://lion137.blogspot.co.uk/2016/01/another-y-combinator-derrivation.html"
   ]
  },
  {
   "cell_type": "code",
   "execution_count": 4,
   "metadata": {
    "collapsed": true
   },
   "outputs": [],
   "source": [
    "# Scheme Version:\n",
    "#(define y \n",
    "#   (lambda (f)\n",
    "#        ((lambda (x) (f (lambda (v) ((x x) v))))\n",
    "#         (lambda (x) (f (lambda (v) ((x x) v)))))))"
   ]
  },
  {
   "cell_type": "code",
   "execution_count": null,
   "metadata": {
    "collapsed": true
   },
   "outputs": [],
   "source": []
  }
 ],
 "metadata": {
  "kernelspec": {
   "display_name": "Python 3",
   "language": "python",
   "name": "python3"
  },
  "language_info": {
   "codemirror_mode": {
    "name": "ipython",
    "version": 3
   },
   "file_extension": ".py",
   "mimetype": "text/x-python",
   "name": "python",
   "nbconvert_exporter": "python",
   "pygments_lexer": "ipython3",
   "version": "3.6.1"
  }
 },
 "nbformat": 4,
 "nbformat_minor": 2
}
