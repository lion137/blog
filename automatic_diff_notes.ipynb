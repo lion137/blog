{
 "cells": [
  {
   "cell_type": "markdown",
   "metadata": {
    "collapsed": true
   },
   "source": [
    "# Automatic Differentiation"
   ]
  },
  {
   "cell_type": "markdown",
   "metadata": {},
   "source": [
    "This is the concept: https://en.wikipedia.org/wiki/Automatic_differentiation\n",
    "It's nicely done here: http://codon.com/automatic-differentiation-in-ruby, where I was looking for help.\n",
    "The implementation is based on a concept of Dual Numbers: https://en.wikipedia.org/wiki/Dual_number.\n",
    "The basic idea is to (not like in numeric differentiation) compute change and value together (Dual Numbers!). The first thing - implement a dual numbers class!"
   ]
  },
  {
   "cell_type": "code",
   "execution_count": 39,
   "metadata": {
    "collapsed": false
   },
   "outputs": [],
   "source": [
    "# dual numbers class\n",
    "import math\n",
    "class Dual_number:\n",
    "    \"\"\"Dual numbers API\"\"\"\n",
    "    def __init__(self, _real, _dual=0):\n",
    "        self.real = _real\n",
    "        self.dual = _dual\n",
    "    \n",
    "    # present a number to the world:\n",
    "    def __str__(self):\n",
    "        def sign_help(x):\n",
    "            return '+' if self.dual >= 0 else '-' \n",
    "        return str(self.real) + ' ' + sign_help(self.dual) + ' ' + str(abs(self.dual)) + 'e'\n",
    "    \n",
    "    def __add__(self, other):\n",
    "        return Dual_number(self.real + other.real, self.dual + other.dual)\n",
    "    \n",
    "    def __radd__(self, other):\n",
    "        return Dual_number(self.real + other, self.dual)\n",
    "    \n",
    "    def __sub__(self, other):\n",
    "        return Dual_number(self.real - other.real, self.dual - other.dual)\n",
    "    \n",
    "    def __rsub__(self, other):\n",
    "        return Dual_number(-(self.real - other), -self.dual)\n",
    "    \n",
    "    def __mul__(self, other):\n",
    "        return Dual_number(self.real * other.real, self.real * other.dual + \n",
    "                          self.dual * other.real)\n",
    "    \n",
    "    def __rmul__(self, other):\n",
    "        return Dual_number(self.real * other, self.dual * other)\n",
    "    \n",
    "    def __truediv__(self, other):\n",
    "        return Dual_number(self.real / other.real ,  (self.dual * other.real - \n",
    "                                                     self.real * other.dual) / (other.real * other.real))\n",
    "        \n",
    "        \n",
    "    \n",
    "\n",
    "# dual number with dual part eq to zero is  a real number (similar to complex), constant value \n"
   ]
  },
  {
   "cell_type": "markdown",
   "metadata": {},
   "source": [
    "As seen arithmetic operations are constructed in similar way like in complex class, just have in mind, that e is infinitesimal so  e*e is zero; add and substract like normal algebraic expressions, multiplication is based on a matrix representation[of dual number]. Let's check if everything's all right.\n"
   ]
  },
  {
   "cell_type": "code",
   "execution_count": 40,
   "metadata": {
    "collapsed": false
   },
   "outputs": [
    {
     "name": "stdout",
     "output_type": "stream",
     "text": [
      "1 + 3e\n",
      "0 - 1e\n",
      "2 + 1e\n",
      "0 - 1e\n",
      "3 + 3e\n",
      "10 + 0e\n",
      "1.0 - 1.0e\n"
     ]
    }
   ],
   "source": [
    "d3 = Dual_number(1, 1)\n",
    "d4 = Dual_number(1, 2)\n",
    "print(d3 * d4)\n",
    "print(d3 - d4)\n",
    "print(1 + d3)\n",
    "print(1 - d3)\n",
    "print(3 * d3)\n",
    "print((3 - d4) * (5 * d3))\n",
    "print(d3 / d4)"
   ]
  },
  {
   "cell_type": "markdown",
   "metadata": {},
   "source": [
    "All seem to be fine; now let's check how it works, numerical differentiation first.\n",
    "The function is 2t^2 and we have:"
   ]
  },
  {
   "cell_type": "code",
   "execution_count": 7,
   "metadata": {
    "collapsed": false
   },
   "outputs": [],
   "source": [
    "# distance function:\n",
    "def s(t):\n",
    "    return math.tan(t)\n",
    "\n",
    "def ds(t):\n",
    "    \"\"\"returns speed of a distance function\"\"\"\n",
    "    dt = 0.001\n",
    "    s0 = s(t)\n",
    "    s1 = s(t + dt)\n",
    "    return (s1 - s0)/dt\n",
    "\n"
   ]
  },
  {
   "cell_type": "code",
   "execution_count": 8,
   "metadata": {
    "collapsed": false
   },
   "outputs": [
    {
     "data": {
      "text/plain": [
       "1.0000003333334668"
      ]
     },
     "execution_count": 8,
     "metadata": {},
     "output_type": "execute_result"
    }
   ],
   "source": [
    "ds(0)"
   ]
  },
  {
   "cell_type": "code",
   "execution_count": 12,
   "metadata": {
    "collapsed": false
   },
   "outputs": [
    {
     "data": {
      "text/plain": [
       "3.430863217312341"
      ]
     },
     "execution_count": 12,
     "metadata": {},
     "output_type": "execute_result"
    }
   ],
   "source": [
    "ds(1)"
   ]
  },
  {
   "cell_type": "code",
   "execution_count": 11,
   "metadata": {
    "collapsed": false
   },
   "outputs": [
    {
     "data": {
      "text/plain": [
       "5.7618113371886714"
      ]
     },
     "execution_count": 11,
     "metadata": {},
     "output_type": "execute_result"
    }
   ],
   "source": [
    "ds(2)"
   ]
  },
  {
   "cell_type": "markdown",
   "metadata": {},
   "source": [
    "OK, so far, ...."
   ]
  },
  {
   "cell_type": "code",
   "execution_count": 15,
   "metadata": {
    "collapsed": false
   },
   "outputs": [
    {
     "name": "stdout",
     "output_type": "stream",
     "text": [
      "1 + 1e\n",
      "1 + 2e\n"
     ]
    }
   ],
   "source": [
    "def tan(x):\n",
    "    if isinstance(x, Dual_number):\n",
    "        return Dual_number(math.tan(x.real) + x.dual) / 1 + (math.tan(x.real))\n",
    "        \n",
    "def s(t):\n",
    "    return t * t\n",
    "t0 = Dual_number(1, 1)\n",
    "print(t0)\n",
    "s1 = s(t0)\n",
    "print(s1)\n",
    "\n",
    "def s2(t):\n",
    "    pass\n"
   ]
  },
  {
   "cell_type": "code",
   "execution_count": null,
   "metadata": {
    "collapsed": true
   },
   "outputs": [],
   "source": []
  }
 ],
 "metadata": {
  "anaconda-cloud": {},
  "kernelspec": {
   "display_name": "Python [default]",
   "language": "python",
   "name": "python3"
  },
  "language_info": {
   "codemirror_mode": {
    "name": "ipython",
    "version": 3
   },
   "file_extension": ".py",
   "mimetype": "text/x-python",
   "name": "python",
   "nbconvert_exporter": "python",
   "pygments_lexer": "ipython3",
   "version": "3.5.2"
  }
 },
 "nbformat": 4,
 "nbformat_minor": 1
}
