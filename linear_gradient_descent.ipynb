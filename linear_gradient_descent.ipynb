{
 "cells": [
  {
   "cell_type": "markdown",
   "metadata": {},
   "source": [
    "Here is previous post with my multivariable gradient descent implementation: https://nbviewer.jupyter.org/github/lion137/blog/blob/master/gradient_descent_multi.ipynb, but it has a bug and also lacked input features, so I rebuilt it and also updated the old version. This is a code:"
   ]
  },
  {
   "cell_type": "code",
   "execution_count": 1,
   "metadata": {
    "collapsed": true
   },
   "outputs": [],
   "source": [
    "import numpy as np\n",
    "import time\n",
    "import matplotlib.pyplot as plt"
   ]
  },
  {
   "cell_type": "code",
   "execution_count": 2,
   "metadata": {
    "collapsed": true
   },
   "outputs": [],
   "source": [
    "# helping functions\n",
    "def split_input_and_to_float(xs):\n",
    "    def helper(ys):\n",
    "        l = list(map(int, ys))\n",
    "        l = list(map(float, ys))\n",
    "        return l\n",
    "    l1 = list(map(helper, xs))\n",
    "    return l1\n",
    "\n",
    "def split(x):\n",
    "    \"\"\"simple split string\"\"\"\n",
    "    return x.split(',')\n",
    "\n",
    "def Sum(X, y, theta, ind):\n",
    "    \"compute sum under the sigma in g d algorithm\"\n",
    "    i = 0\n",
    "    s = 0\n",
    "    while i < len(X):\n",
    "        s += (theta * X[i,:].transpose() - y[0, i]) * X[i, ind]\n",
    "        i += 1\n",
    "    return float(s)\n",
    "\n",
    "def J_m(A, y, theta):\n",
    "    \"\"\"computes cost function \"\"\"\n",
    "    n = len(A)\n",
    "    return (1 / (2 * n)) * float(sum([x * x for x in A * theta.transpose() - y.transpose()]))\n",
    "\n",
    "def scaling(X):\n",
    "    \"\"\"mean normalzation\"\"\"\n",
    "    l = []\n",
    "    for k in range(X.shape[1]):\n",
    "        x = X[:,k]\n",
    "        def f(e):\n",
    "            tmp0 = sum(x) / len(x)\n",
    "            tmp1 = max(x) - min(x)\n",
    "            return (e - tmp0) / tmp1\n",
    "        m =  list(map(float, (list(map(f, x[:, 0])))))\n",
    "        l.append(m)\n",
    "    return np.matrix(l).transpose()"
   ]
  },
  {
   "cell_type": "code",
   "execution_count": 3,
   "metadata": {
    "collapsed": false
   },
   "outputs": [
    {
     "name": "stdout",
     "output_type": "stream",
     "text": [
      "time in secs:  0.02801966667175293\n",
      "[[17 31]] 0.0 0.625 8\n"
     ]
    },
    {
     "data": {
      "image/png": "[encoded data removed]",
      "text/plain": [
       "<matplotlib.figure.Figure at 0x7fdb6a538748>"
      ]
     },
     "metadata": {},
     "output_type": "display_data"
    },
    {
     "name": "stdout",
     "output_type": "stream",
     "text": [
      "CPU times: user 4 ms, sys: 0 ns, total: 4 ms\n",
      "Wall time: 2.51 ms\n",
      "[[ 17.5]\n",
      " [ 33. ]]\n"
     ]
    }
   ],
   "source": [
    "# gradient descent\n",
    "l_iin = [] # debbuging data arrays\n",
    "l_cost = []\n",
    "f = open('data1.txt', 'r') # reading from file added\n",
    "f1 = list(map(str.rstrip, f.readlines()))\n",
    "f2 = f1[0].split(',')\n",
    "f3 = list(map(split, f1))\n",
    "f4 = split_input_and_to_float(f3)\n",
    "X = np.matrix([0] * len(f4[0]))\n",
    "for elem in f4:\n",
    "       X = np.vstack([X, elem])\n",
    "X = X[1: , :]\n",
    "y = X[:,X.shape[1] - 1].transpose()\n",
    "X = X[:,:X.shape[1] - 1]\n",
    "X = scaling(X)\n",
    "X = np.c_[[1] * len(X), X]\n",
    "theta = np.matrix([0] * X.shape[1])\n",
    "tmp = np.matrix([0] * X.shape[1])\n",
    "m = X.shape[0]\n",
    "cnt = 0\n",
    "alfa = 1.64\n",
    "precision = 0.001\n",
    "delta = precision + 1\n",
    "t_start = time.time()\n",
    "while delta > precision:\n",
    "    beg = J_m(X, y, theta)\n",
    "    for i in range(X.shape[1]):\n",
    "        tmp[0,i] = theta[0,i] - (alfa / m) * (Sum(X, y, theta, i))\n",
    "    theta = tmp\n",
    "    end = J_m(X, y, theta)\n",
    "    delta = abs(end - beg)\n",
    "    l_iin.append(cnt)\n",
    "    l_cost.append(J_m(X, y, theta))\n",
    "    cnt += 1\n",
    "t_end = time.time()\n",
    "print(\"time in secs: \", t_end - t_start)\n",
    "print(theta, delta, end, cnt)\n",
    "\n",
    "\n",
    "plt.plot(l_iin, l_cost, color=\"blue\", linewidth=1, label=\"alfa=1.64\")\n",
    "plt.legend(loc=\"upper right\")\n",
    "plt.show()  \n",
    "\n",
    "%time theta = ((X.transpose() * X).getI()) * X.transpose() * y.transpose()\n",
    "print(theta)"
   ]
  },
  {
   "cell_type": "markdown",
   "metadata": {},
   "source": [
    "There  is also added analytically method for minimizing cost function:"
   ]
  },
  {
   "cell_type": "code",
   "execution_count": 15,
   "metadata": {
    "collapsed": true
   },
   "outputs": [],
   "source": [
    "theta = ((X.transpose() * X).getI()) * X.transpose() * y.transpose()"
   ]
  },
  {
   "cell_type": "markdown",
   "metadata": {},
   "source": [
    "This is Octave's:    \n",
    "pinv(X' *  X) * X' y    \n",
    "Doesnt work for singular matrixes though, but is great for testing purposes and after checking lots of datasets, algorithm seems to be OK. There are still, differences beetwen both methods, so I'm going, obviously, to work this out and publish results here!"
   ]
  }
 ],
 "metadata": {
  "anaconda-cloud": {},
  "kernelspec": {
   "display_name": "Python [default]",
   "language": "python",
   "name": "python3"
  },
  "language_info": {
   "codemirror_mode": {
    "name": "ipython",
    "version": 3
   },
   "file_extension": ".py",
   "mimetype": "text/x-python",
   "name": "python",
   "nbconvert_exporter": "python",
   "pygments_lexer": "ipython3",
   "version": "3.5.2"
  }
 },
 "nbformat": 4,
 "nbformat_minor": 1
}
