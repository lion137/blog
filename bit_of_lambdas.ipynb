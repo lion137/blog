{
 "cells": [
  {
   "cell_type": "markdown",
   "metadata": {},
   "source": [
    "#### Y Cominator w Pythonie"
   ]
  },
  {
   "cell_type": "markdown",
   "metadata": {},
   "source": [
    "Fixed Point Combinator, czyli Y Combinator. Co to jest? To jest po prostu punkt stały funkcji rekurencyjnej, zapisanej przy pomocy lambd; jak to lambd skoro funkcja rekurencyjna? Przeciez funkcja nie mająca nazwy nie może się wołać w kodzie. Otóż może dzięki Y Combinatorowi, tworzymy częściową funkcję rekurencyjną, i funkcja Y znajduje jej punkt stały czyli docelową funkcję, dla silni silnię, i tak dalej. Kod w Pythonie:"
   ]
  },
  {
   "cell_type": "code",
   "execution_count": 8,
   "metadata": {
    "collapsed": true
   },
   "outputs": [],
   "source": [
    "Y = lambda f: (lambda x: f(lambda v: x(x)(v)))(lambda x: f(lambda v: x(x)(v)))"
   ]
  },
  {
   "cell_type": "markdown",
   "metadata": {},
   "source": [
    "Pełne wyprowadzenie (w Scheme) tutaj: http://lion137.blogspot.co.uk/2016/01/another-y-combinator-derrivation.html"
   ]
  },
  {
   "cell_type": "code",
   "execution_count": 17,
   "metadata": {},
   "outputs": [],
   "source": [
    "fact_partial = lambda p: lambda n: 1 if n == 0 else n * p(n - 1)"
   ]
  },
  {
   "cell_type": "markdown",
   "metadata": {},
   "source": [
    "Mamy częściową silnię (widać, że ta lambda może być silnią, ale brakuje jej rekurencji, sama siebie nie może zawołać, bo jest tylko lambdą, więc potrzebuje Y), zdefiniujmy więc jej punkt stały:"
   ]
  },
  {
   "cell_type": "code",
   "execution_count": 20,
   "metadata": {},
   "outputs": [],
   "source": [
    "fact = Y(fact_partial)"
   ]
  },
  {
   "cell_type": "code",
   "execution_count": 23,
   "metadata": {},
   "outputs": [
    {
     "data": {
      "text/plain": [
       "3628800"
      ]
     },
     "execution_count": 23,
     "metadata": {},
     "output_type": "execute_result"
    }
   ],
   "source": [
    "fact(10)"
   ]
  },
  {
   "cell_type": "markdown",
   "metadata": {},
   "source": [
    "I jak widać teraz liczy, dlaczego jest zbieżna do silni?"
   ]
  },
  {
   "cell_type": "code",
   "execution_count": 26,
   "metadata": {},
   "outputs": [],
   "source": [
    "import math"
   ]
  },
  {
   "cell_type": "code",
   "execution_count": 45,
   "metadata": {},
   "outputs": [],
   "source": [
    "def fix_point_of_sqrt(n, cnt= 0):\n",
    "    if n <1.0000000001:\n",
    "        return n, cnt\n",
    "    else:\n",
    "        return fix_point_of_sqrt(math.sqrt(n), cnt + 1)\n"
   ]
  },
  {
   "cell_type": "code",
   "execution_count": 48,
   "metadata": {},
   "outputs": [
    {
     "data": {
      "text/plain": [
       "(1.0000000000677804, 38)"
      ]
     },
     "execution_count": 48,
     "metadata": {},
     "output_type": "execute_result"
    }
   ],
   "source": [
    "fix_point_of_sqrt(123456789)"
   ]
  },
  {
   "cell_type": "markdown",
   "metadata": {},
   "source": [
    "Widać co się dzieje, pierwiastek po iluś iteracjach dązy do jeden czyli do swojego punktu stałego, to samo robi fact_partial, jak na nia działa Y. Thanks!"
   ]
  }
 ],
 "metadata": {
  "kernelspec": {
   "display_name": "Python 3",
   "language": "python",
   "name": "python3"
  },
  "language_info": {
   "codemirror_mode": {
    "name": "ipython",
    "version": 3
   },
   "file_extension": ".py",
   "mimetype": "text/x-python",
   "name": "python",
   "nbconvert_exporter": "python",
   "pygments_lexer": "ipython3",
   "version": "3.6.1"
  }
 },
 "nbformat": 4,
 "nbformat_minor": 2
}
